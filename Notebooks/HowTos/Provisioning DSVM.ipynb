{
  "cells": [
    {
      "metadata": {},
      "cell_type": "markdown",
      "source": "# How To: Provisioning Data Science Virtual Machine (DSVM)\n\n__Notebook Version:__ 1.0<br>\n__Python Version:__ Python 3.6 (including Python 3.6 - AzureML)<br>\n__Required Packages:__ azure 4.0.0,  azure-cli-profile 2.1.4<br>\n__Platforms Supported:__<br>\n    -  Azure Notebooks Free Compute\n    -  Azure Notebooks DSVM\n__Data Source Required:__<br>\n    -  no\n    \n### Description\nThe sample notebook shows how to provision a Azure DSVM as an alternate computing resource for hosting Azure Notebooks.\n\nAzure Notebooks provides Free Compute as the default computing resource, which is free of charge.  However, sometimes you do want to have a powerful computing environment, and you don't want to go through Direct Compute route which requires JupyterHub installation on Linux machines, then Data Science Virtual Machine (DSVM) becomes a vital choice.\n\nYou may reference <a href='https://docs.microsoft.com/en-us/azure/notebooks/configure-manage-azure-notebooks-projects' target='_blank'>this article</a> for details.  In a nutshell, you need to select Linux VM with Ubuntu flavor.  And keep in mind that on Azure DSVM, if you want to use Python 3.6 which is required by Azure Sentinel notebooks, you need to <font color=red> select Python 3.6 - AzureML.</font>"
    },
    {
      "metadata": {},
      "cell_type": "markdown",
      "source": "## Table of Contents\n\n1. How to create a new DSVM \n2. How to use DSVM\n3. Things to know about using DSVM"
    },
    {
      "metadata": {},
      "cell_type": "markdown",
      "source": "## 1. How to create a new DSVM"
    },
    {
      "metadata": {
        "trusted": true
      },
      "cell_type": "code",
      "source": "# only run once\n!pip install --upgrade Azure-Sentinel-Utilities",
      "execution_count": null,
      "outputs": []
    },
    {
      "metadata": {
        "trusted": true
      },
      "cell_type": "code",
      "source": "# please enter your tenant domain below, for Microsoft, using: microsoft.onmicrosoft.com\n!az login --tenant ''",
      "execution_count": null,
      "outputs": []
    },
    {
      "metadata": {
        "trusted": true
      },
      "cell_type": "code",
      "source": "# User Input for creating a new DSVM\nvm_size = 'Standard_DS3_v2'\n\n# replace [[your_subcription_id]] with 'real subscription id'\n!az account set --subscription [[your_subcription_id]]",
      "execution_count": null,
      "outputs": []
    },
    {
      "metadata": {
        "trusted": true
      },
      "cell_type": "code",
      "source": "# replace all [[your_stuff]] with 'real values'\n!az group deployment create \\\n    --resource-group [[your_subcription_id]] \\\n    --template-uri https://raw.githubusercontent.com/Azure/DataScienceVM/master/Scripts/CreateDSVM/Ubuntu/azuredeploy.json \\\n    --parameters \\\n    '{ \\\n      \"$schema\": \"https://schema.management.azure.com/schemas/2015-01-01/deploymentParameters.json#\",\\\n      \"contentVersion\": \"1.0.0.0\",\\\n      \"parameters\": {\\\n         \"adminUsername\": { \"value\" : \"[[your_admin_id]]\"},\\\n         \"adminPassword\": { \"value\" : \"[[your_admin_password]]\"},\\\n         \"vmName\": { \"value\" : \"[[vm_name]]\"},\\\n         \"vmSize\": { \"value\" : \"Standard_DS3_v2\"}\\\n      }\\\n    }'",
      "execution_count": null,
      "outputs": []
    },
    {
      "metadata": {},
      "cell_type": "markdown",
      "source": "*** Please go to the project page to select the VM that you just created as your new computing platform (Run on ...) to continue ..."
    },
    {
      "metadata": {
        "trusted": true
      },
      "cell_type": "markdown",
      "source": "## 2. How to use DSVM\n\n1. Now that you have a DSVM, when you login to https://notebooks.azure.com, you can see you DSVM on the drop down list under Free Compute and Direct Compute.<br>\n![dropdown](images/Dropdown.png)<br>\n2. Of course you will select DSVM, it will ask you to validate your JIT credentials.<br>\n![login](images/login.PNG)<br>\n3. Once you pick a notebook to run, you may encounter the following warning:<br>\n![warning](images/Warning.png)<br>\nAs you may see, [Python 3.6 - AzureML] is the correct answer.\n"
    },
    {
      "metadata": {
        "trusted": true
      },
      "cell_type": "code",
      "source": "",
      "execution_count": null,
      "outputs": []
    },
    {
      "metadata": {
        "trusted": true
      },
      "cell_type": "markdown",
      "source": "## 3. Things to know about using DSVM\n\n1. The most important thing to know about Azure Notebooks on DSVM is that: Azure Notebooks project home directory is not mounted on the DSVM.  So any references to Azure Notebooks  folders / files will incur File/folder not found exception.  In other words, each ipynb notebook need to be independent of other files.  \n2. There are work-around solutions:<br>\n    a. Data files can be stored on Azure Blob storage and <a href='https://github.com/Azure/azure-storage-fuse' target='_blank'>blobfufe</a><br>\n    b. Python files can be added to the notebook by using the Jupyter magic, you can find an example here: <a href='https://github.com/Microsoft/connect-petdetector/blob/master/setup.ipynb' target='_blank'>%%writefile</a><br>\n    c. Configuration files are a bit more complicated.  Using our Azure Sentinel config.json as an example, it is generated when you import Azure Sentinel Jupyter project from GitHub repo through Azure portal.  The configuration JSON is Azure Log Analytics workspace specific file, so you clone one project for one Log Analytics workspace.  You can find the config.json file at the root of the project home directory.  <a href='https://orion-zhaozp.notebooks.azure.com/j/notebooks/Notebooks/Get%20Start.ipynb' target='_blank'>Get Start.jpynb</a>  section 1 demonstrates how to set the configuration settings manually. "
    },
    {
      "metadata": {
        "trusted": true
      },
      "cell_type": "code",
      "source": "",
      "execution_count": null,
      "outputs": []
    }
  ],
  "metadata": {
    "kernelspec": {
      "name": "python36",
      "display_name": "Python 3.6",
      "language": "python"
    },
    "language_info": {
      "mimetype": "text/x-python",
      "nbconvert_exporter": "python",
      "name": "python",
      "pygments_lexer": "ipython3",
      "version": "3.6.6",
      "file_extension": ".py",
      "codemirror_mode": {
        "version": 3,
        "name": "ipython"
      }
    }
  },
  "nbformat": 4,
  "nbformat_minor": 1
}